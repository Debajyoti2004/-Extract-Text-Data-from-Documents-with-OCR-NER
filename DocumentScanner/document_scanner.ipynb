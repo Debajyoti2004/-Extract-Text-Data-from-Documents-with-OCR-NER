{
 "cells": [
  {
   "cell_type": "code",
   "execution_count": 2,
   "metadata": {},
   "outputs": [],
   "source": [
    "import numpy as np \n",
    "import cv2 \n",
    "import matplotlib.pyplot as plt \n",
    "import imutils \n"
   ]
  },
  {
   "cell_type": "code",
   "execution_count": 3,
   "metadata": {},
   "outputs": [],
   "source": [
    "img_orig = cv2.imread(r\"C:\\Users\\Debajyoti\\OneDrive\\Desktop\\Project 2\\DocumentScanner\\images\\03.jpg\")"
   ]
  },
  {
   "cell_type": "code",
   "execution_count": 4,
   "metadata": {},
   "outputs": [
    {
     "name": "stdout",
     "output_type": "stream",
     "text": [
      "(1600, 1200, 3)\n"
     ]
    }
   ],
   "source": [
    "print(img_orig.shape)"
   ]
  },
  {
   "cell_type": "code",
   "execution_count": 5,
   "metadata": {},
   "outputs": [],
   "source": [
    "cv2.namedWindow('original',cv2.WINDOW_NORMAL)\n",
    "cv2.imshow('original',img_orig)\n",
    "cv2.waitKey()\n",
    "cv2.destroyAllWindows()"
   ]
  },
  {
   "cell_type": "code",
   "execution_count": 6,
   "metadata": {},
   "outputs": [],
   "source": [
    "def resizer(image,width=500):\n",
    "    h,w,c = image.shape\n",
    "    height = int((h/w)*width)\n",
    "\n",
    "    img = cv2.resize(image,(width,height))\n",
    "    size = (width,height)\n",
    "    return img,size"
   ]
  },
  {
   "cell_type": "code",
   "execution_count": 7,
   "metadata": {},
   "outputs": [
    {
     "name": "stdout",
     "output_type": "stream",
     "text": [
      "(500, 666)\n",
      "(666, 500, 3)\n"
     ]
    }
   ],
   "source": [
    "img_re,size = resizer(img_orig)\n",
    "print(size)\n",
    "flag = 0\n",
    "cv2.imshow('Resized',img_re)\n",
    "cv2.waitKey()\n",
    "cv2.destroyAllWindows()\n",
    "print(img_re.shape)"
   ]
  },
  {
   "cell_type": "code",
   "execution_count": 8,
   "metadata": {},
   "outputs": [],
   "source": [
    "detail = cv2.detailEnhance(img_re, sigma_s = 20, sigma_r = 0.15)#Enhance\n",
    "gray = cv2.cvtColor(detail,cv2.COLOR_BGR2GRAY)\n",
    "blur = cv2.GaussianBlur(gray,(5,5),0)\n",
    "# edge detect\n",
    "edge_image = cv2.Canny(blur,75,200)\n",
    "# morphological transform\n",
    "kernel = np.ones((5,5), np.uint8)\n",
    "dilate = cv2.dilate(edge_image, kernel,iterations=1)\n",
    "closing = cv2.morphologyEx(dilate,cv2.MORPH_CLOSE,kernel)\n",
    "\n",
    "# find the contours\n",
    "contours, hire = cv2.findContours(closing,cv2.RETR_LIST,cv2.CHAIN_APPROX_SIMPLE)\n",
    "\n",
    "contours = sorted(contours, key = cv2.contourArea, reverse = True)\n",
    "for contour in contours:\n",
    "    peri = cv2.arcLength(contour, True)\n",
    "    approx = cv2.approxPolyDP(contour, 0.02*peri, True)\n",
    "    \n",
    "    if len(approx)==4:\n",
    "        four_points = np.squeeze(approx)\n",
    "        break\n",
    "if flag == 0:    \n",
    "  cv2.drawContours(img_re,[four_points],-1,(0,0,255),3)\n",
    "  flag = 1 \n",
    "\n",
    "# find four points for original image\n",
    "multiplier = img_orig.shape[1]/size[0]\n",
    "four_points_orig = four_points*multiplier\n",
    "four_points_orig = four_points_orig.astype(int)\n",
    "cv2.imshow('resize_image',img_re)\n",
    "cv2.imshow('closing',closing)\n",
    "cv2.waitKey(0)\n",
    "cv2.destroyAllWindows()"
   ]
  },
  {
   "cell_type": "code",
   "execution_count": 9,
   "metadata": {},
   "outputs": [
    {
     "name": "stdout",
     "output_type": "stream",
     "text": [
      "[[ 732  324]\n",
      " [ 199  974]\n",
      " [ 597 1296]\n",
      " [1118  640]]\n",
      "[[305 135]\n",
      " [ 83 406]\n",
      " [249 540]\n",
      " [466 267]]\n"
     ]
    }
   ],
   "source": [
    "print(four_points_orig)\n",
    "print(four_points)"
   ]
  },
  {
   "cell_type": "code",
   "execution_count": 10,
   "metadata": {},
   "outputs": [],
   "source": [
    "from imutils.perspective import four_point_transform\n"
   ]
  },
  {
   "cell_type": "code",
   "execution_count": 11,
   "metadata": {},
   "outputs": [],
   "source": [
    "wrap_image = four_point_transform(img_orig,four_points_orig)\n"
   ]
  },
  {
   "cell_type": "code",
   "execution_count": 12,
   "metadata": {},
   "outputs": [],
   "source": [
    "cv2.imshow(\"wrap\",wrap_image)\n",
    "cv2.waitKey(0)\n",
    "cv2.destroyAllWindows()"
   ]
  },
  {
   "cell_type": "code",
   "execution_count": 21,
   "metadata": {},
   "outputs": [],
   "source": [
    "from applyBrightness import apply_brightness_contrast\n",
    "\n",
    "magic_image = apply_brightness_contrast(wrap_image,100,100)"
   ]
  },
  {
   "cell_type": "code",
   "execution_count": 22,
   "metadata": {},
   "outputs": [],
   "source": [
    "cv2.imshow(\"brightness imagem\",magic_image)\n",
    "cv2.waitKey(0)\n",
    "cv2.destroyAllWindows()"
   ]
  },
  {
   "cell_type": "code",
   "execution_count": null,
   "metadata": {},
   "outputs": [],
   "source": []
  }
 ],
 "metadata": {
  "kernelspec": {
   "display_name": "Python 3",
   "language": "python",
   "name": "python3"
  },
  "language_info": {
   "codemirror_mode": {
    "name": "ipython",
    "version": 3
   },
   "file_extension": ".py",
   "mimetype": "text/x-python",
   "name": "python",
   "nbconvert_exporter": "python",
   "pygments_lexer": "ipython3",
   "version": "3.12.3"
  }
 },
 "nbformat": 4,
 "nbformat_minor": 2
}
